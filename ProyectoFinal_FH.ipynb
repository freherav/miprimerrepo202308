{
 "cells": [
  {
   "cell_type": "code",
   "execution_count": 3,
   "id": "ee6a6c01",
   "metadata": {},
   "outputs": [],
   "source": [
    "import findspark\n",
    "findspark.init()\n",
    "\n",
    "import pandas as pd\n",
    "import pyspark"
   ]
  },
  {
   "cell_type": "code",
   "execution_count": 4,
   "id": "316a0f74",
   "metadata": {},
   "outputs": [],
   "source": [
    "from pyspark.sql import SparkSession\n",
    "from pyspark.sql.functions import *"
   ]
  },
  {
   "cell_type": "code",
   "execution_count": 5,
   "id": "78884623",
   "metadata": {},
   "outputs": [],
   "source": [
    "spark = SparkSession.builder.getOrCreate()"
   ]
  },
  {
   "cell_type": "code",
   "execution_count": 6,
   "id": "b0312df7",
   "metadata": {},
   "outputs": [
    {
     "name": "stdout",
     "output_type": "stream",
     "text": [
      "+-------+----+-----------+\n",
      "| nombre|edad|     ciudad|\n",
      "+-------+----+-----------+\n",
      "|  Alice|  25|   New York|\n",
      "|    Bob|  30|Los Angeles|\n",
      "|Charlie|  22|    Chicago|\n",
      "+-------+----+-----------+\n",
      "\n"
     ]
    }
   ],
   "source": [
    "# 1. Crear un DataFrame con datos de personas, que incluya nombre, edad y ciudad de residencia.\n",
    "data = [(\"Alice\", 25, \"New York\"),\n",
    "        (\"Bob\", 30, \"Los Angeles\"),\n",
    "        (\"Charlie\", 22, \"Chicago\")]\n",
    "\n",
    "df = spark.createDataFrame(data, [\"nombre\", \"edad\", \"ciudad\"])\n",
    "df.show()"
   ]
  },
  {
   "cell_type": "code",
   "execution_count": 18,
   "id": "ff9cec77",
   "metadata": {},
   "outputs": [
    {
     "name": "stdout",
     "output_type": "stream",
     "text": [
      "+-------+\n",
      "| nombre|\n",
      "+-------+\n",
      "|  Alice|\n",
      "|    Bob|\n",
      "|Charlie|\n",
      "+-------+\n",
      "\n"
     ]
    }
   ],
   "source": [
    "# 2. Mostrar solo los nombres de las personas del DataFrame.\n",
    "df.select(\"nombre\").show()"
   ]
  },
  {
   "cell_type": "code",
   "execution_count": 19,
   "id": "5dbaef02",
   "metadata": {},
   "outputs": [
    {
     "name": "stdout",
     "output_type": "stream",
     "text": [
      "+------+----+-----------+\n",
      "|nombre|edad|     ciudad|\n",
      "+------+----+-----------+\n",
      "| Alice|  25|   New York|\n",
      "|   Bob|  30|Los Angeles|\n",
      "+------+----+-----------+\n",
      "\n"
     ]
    }
   ],
   "source": [
    "# 3. Filtrar personas cuya edad sea mayor o igual a 25.\n",
    "df.filter(df.edad >= 25).show()"
   ]
  },
  {
   "cell_type": "code",
   "execution_count": 25,
   "id": "894eaffc",
   "metadata": {},
   "outputs": [
    {
     "name": "stdout",
     "output_type": "stream",
     "text": [
      "+-------+----+-----------+----+\n",
      "| nombre|edad|     ciudad|Pais|\n",
      "+-------+----+-----------+----+\n",
      "|  Alice|  25|   New York|Peru|\n",
      "|    Bob|  30|Los Angeles|Peru|\n",
      "|Charlie|  22|    Chicago|Peru|\n",
      "+-------+----+-----------+----+\n",
      "\n"
     ]
    }
   ],
   "source": [
    "# 4. Agregar una nueva columna \"Pais\" con un valor constante para todas las filas.\n",
    "from pyspark.sql.functions import lit\n",
    "df.withColumn(\"Pais\", lit(\"Peru\")).show()"
   ]
  },
  {
   "cell_type": "code",
   "execution_count": 7,
   "id": "88b03942",
   "metadata": {},
   "outputs": [
    {
     "name": "stdout",
     "output_type": "stream",
     "text": [
      "+------------------+\n",
      "|     Promedio Edad|\n",
      "+------------------+\n",
      "|25.666666666666668|\n",
      "+------------------+\n",
      "\n"
     ]
    }
   ],
   "source": [
    "# 5. Calcular el promedio de edad de todas las personas.\n",
    "df.agg( avg(\"edad\").alias(\"Promedio Edad\")\n",
    "        ).show()"
   ]
  },
  {
   "cell_type": "code",
   "execution_count": 28,
   "id": "4308b854",
   "metadata": {},
   "outputs": [
    {
     "name": "stdout",
     "output_type": "stream",
     "text": [
      "+-------+----+-----------+\n",
      "| nombre|edad|     ciudad|\n",
      "+-------+----+-----------+\n",
      "|    Bob|  30|Los Angeles|\n",
      "|  Alice|  25|   New York|\n",
      "|Charlie|  22|    Chicago|\n",
      "+-------+----+-----------+\n",
      "\n"
     ]
    }
   ],
   "source": [
    "# 6. Ordenar el DataFrame por edad en orden descendente.\n",
    "df.sort(desc(\"edad\")).show()"
   ]
  },
  {
   "cell_type": "code",
   "execution_count": 29,
   "id": "f890aa34",
   "metadata": {},
   "outputs": [
    {
     "name": "stdout",
     "output_type": "stream",
     "text": [
      "+-----------+-----+\n",
      "|     ciudad|count|\n",
      "+-----------+-----+\n",
      "|   New York|    1|\n",
      "|Los Angeles|    1|\n",
      "|    Chicago|    1|\n",
      "+-----------+-----+\n",
      "\n"
     ]
    }
   ],
   "source": [
    "# 7. Agrupar por ciudad y calcular la cantidad de personas en cada ciudad.\n",
    "(df.groupBy(\"ciudad\")\n",
    "    .agg(\n",
    "        count(\"nombre\").alias(\"count\")\n",
    "        ).show()\n",
    ")"
   ]
  },
  {
   "cell_type": "code",
   "execution_count": 30,
   "id": "30aeb937",
   "metadata": {},
   "outputs": [
    {
     "name": "stdout",
     "output_type": "stream",
     "text": [
      "+--------------+----+-----------+\n",
      "|NombreCompleto|edad|     ciudad|\n",
      "+--------------+----+-----------+\n",
      "|         Alice|  25|   New York|\n",
      "|           Bob|  30|Los Angeles|\n",
      "|       Charlie|  22|    Chicago|\n",
      "+--------------+----+-----------+\n",
      "\n"
     ]
    }
   ],
   "source": [
    "# 8. Renombrar la columna \"Nombre\" a \"NombreCompleto\".\n",
    "df = df.withColumnRenamed('nombre', 'NombreCompleto')\n",
    "df.show()"
   ]
  },
  {
   "cell_type": "code",
   "execution_count": 32,
   "id": "426ecd65",
   "metadata": {},
   "outputs": [
    {
     "name": "stdout",
     "output_type": "stream",
     "text": [
      "+--------------+-----------+\n",
      "|NombreCompleto|     ciudad|\n",
      "+--------------+-----------+\n",
      "|         Alice|   New York|\n",
      "|           Bob|Los Angeles|\n",
      "|       Charlie|    Chicago|\n",
      "+--------------+-----------+\n",
      "\n"
     ]
    }
   ],
   "source": [
    "# 9. Eliminar la columna \"Edad\" del DataFrame.\n",
    "newdf=df\n",
    "newdf = newdf.drop(\"edad\")\n",
    "newdf.show()"
   ]
  },
  {
   "cell_type": "code",
   "execution_count": 53,
   "id": "a502cf57",
   "metadata": {},
   "outputs": [
    {
     "name": "stdout",
     "output_type": "stream",
     "text": [
      "+-------+----+-----------+\n",
      "| nombre|edad|     ciudad|\n",
      "+-------+----+-----------+\n",
      "|  Alice|  25|   New York|\n",
      "|    Bob|  30|Los Angeles|\n",
      "|Charlie|  22|    Chicago|\n",
      "+-------+----+-----------+\n",
      "\n"
     ]
    }
   ],
   "source": [
    "# 10. Realizar una consulta SQL en el DataFrame para seleccionar personas mayores de 20 años.\n",
    "df.createOrReplaceTempView(\"temp_table\")\n",
    "spark.sql(\"select * from temp_table where edad > 20\").show()"
   ]
  },
  {
   "cell_type": "code",
   "execution_count": 35,
   "id": "bfdbf17b",
   "metadata": {},
   "outputs": [
    {
     "name": "stdout",
     "output_type": "stream",
     "text": [
      "+---------+\n",
      "|sum(edad)|\n",
      "+---------+\n",
      "|       77|\n",
      "+---------+\n",
      "\n"
     ]
    }
   ],
   "source": [
    "# 11. Calcular la suma total de todas las edades.\n",
    "spark.sql(\"select sum(edad) from temp_table\").show()"
   ]
  },
  {
   "cell_type": "code",
   "execution_count": 36,
   "id": "56c4629b",
   "metadata": {},
   "outputs": [
    {
     "name": "stdout",
     "output_type": "stream",
     "text": [
      "+---------+---------+\n",
      "|min(edad)|max(edad)|\n",
      "+---------+---------+\n",
      "|       22|       30|\n",
      "+---------+---------+\n",
      "\n"
     ]
    }
   ],
   "source": [
    "# 12. Calcular la edad mínima y máxima de todas las personas.\n",
    "spark.sql(\"select min(edad), max(edad) from temp_table\").show()"
   ]
  },
  {
   "cell_type": "code",
   "execution_count": 41,
   "id": "7c754ddb",
   "metadata": {},
   "outputs": [
    {
     "name": "stdout",
     "output_type": "stream",
     "text": [
      "+--------------+----+-------+\n",
      "|NombreCompleto|edad| ciudad|\n",
      "+--------------+----+-------+\n",
      "|       Charlie|  22|Chicago|\n",
      "+--------------+----+-------+\n",
      "\n"
     ]
    }
   ],
   "source": [
    "# 13. Filtrar personas cuya ciudad de residencia sea \"Chicago\" y edad sea menor de 30.\n",
    "spark.sql(\"select * from temp_table where ciudad = 'Chicago' and edad < 30\").show()"
   ]
  },
  {
   "cell_type": "code",
   "execution_count": 42,
   "id": "36c00b59",
   "metadata": {},
   "outputs": [
    {
     "name": "stdout",
     "output_type": "stream",
     "text": [
      "+--------------+----+-----------+-------------+\n",
      "|NombreCompleto|edad|     ciudad|EdadDuplicada|\n",
      "+--------------+----+-----------+-------------+\n",
      "|         Alice|  25|   New York|           50|\n",
      "|           Bob|  30|Los Angeles|           60|\n",
      "|       Charlie|  22|    Chicago|           44|\n",
      "+--------------+----+-----------+-------------+\n",
      "\n"
     ]
    }
   ],
   "source": [
    "# 14. Agregar una nueva columna \"EdadDuplicada\" que contenga el doble de la edad.\n",
    "df.withColumn(\"EdadDuplicada\", col(\"edad\") * 2).show()"
   ]
  },
  {
   "cell_type": "code",
   "execution_count": 23,
   "id": "fdc36605",
   "metadata": {},
   "outputs": [
    {
     "name": "stdout",
     "output_type": "stream",
     "text": [
      "+-------+----+-----------+---------+\n",
      "| nombre|edad|     ciudad|EdadMeses|\n",
      "+-------+----+-----------+---------+\n",
      "|  Alice|  25|   New York|      300|\n",
      "|    Bob|  30|Los Angeles|      360|\n",
      "|Charlie|  22|    Chicago|      264|\n",
      "+-------+----+-----------+---------+\n",
      "\n"
     ]
    }
   ],
   "source": [
    "# 15. Convertir todas las edades en años a meses.\n",
    "df.withColumn(\"EdadMeses\", col(\"edad\") * 12).show()"
   ]
  },
  {
   "cell_type": "code",
   "execution_count": 45,
   "id": "dfcba644",
   "metadata": {},
   "outputs": [
    {
     "name": "stdout",
     "output_type": "stream",
     "text": [
      "+---------------------+\n",
      "|count(NombreCompleto)|\n",
      "+---------------------+\n",
      "|                    3|\n",
      "+---------------------+\n",
      "\n"
     ]
    }
   ],
   "source": [
    "# 16. Contar el número total de personas en el DataFrame.\n",
    "spark.sql(\"select count(NombreCompleto) from temp_table\").show()"
   ]
  },
  {
   "cell_type": "code",
   "execution_count": 11,
   "id": "1ae30100",
   "metadata": {},
   "outputs": [
    {
     "name": "stdout",
     "output_type": "stream",
     "text": [
      "+-------+----+-----------+\n",
      "| nombre|edad|     ciudad|\n",
      "+-------+----+-----------+\n",
      "|    Bob|  30|Los Angeles|\n",
      "|Charlie|  22|    Chicago|\n",
      "+-------+----+-----------+\n",
      "\n"
     ]
    }
   ],
   "source": [
    "# 17. Filtrar personas cuya edad sea un número par.\n",
    "from pyspark.sql.functions import filter\n",
    "df.filter(df.edad % 2 == 0).show()"
   ]
  },
  {
   "cell_type": "code",
   "execution_count": null,
   "id": "45ee9a7e",
   "metadata": {},
   "outputs": [],
   "source": [
    "# 18. Calcular la cantidad de personas por rango de edades (0-20, 21-40, 41-60, 61+).\n"
   ]
  },
  {
   "cell_type": "code",
   "execution_count": 50,
   "id": "0d90defb",
   "metadata": {},
   "outputs": [
    {
     "name": "stdout",
     "output_type": "stream",
     "text": [
      "+--------------+--------+\n",
      "|NombreCompleto|count(0)|\n",
      "+--------------+--------+\n",
      "|         Alice|       1|\n",
      "|           Bob|       1|\n",
      "|       Charlie|       1|\n",
      "+--------------+--------+\n",
      "\n"
     ]
    }
   ],
   "source": [
    "# 19. Contar cuántas personas tienen el mismo nombre.\n",
    "spark.sql(\"select NombreCompleto, count(0) from temp_table group by NombreCompleto\").show()"
   ]
  },
  {
   "cell_type": "code",
   "execution_count": 21,
   "id": "6902a957",
   "metadata": {},
   "outputs": [
    {
     "name": "stdout",
     "output_type": "stream",
     "text": [
      "+-------+----+-----------+-------------------+\n",
      "| nombre|edad|     ciudad|InformacionPersonal|\n",
      "+-------+----+-----------+-------------------+\n",
      "|  Alice|  25|   New York|     Alice New York|\n",
      "|    Bob|  30|Los Angeles|    Bob Los Angeles|\n",
      "|Charlie|  22|    Chicago|    Charlie Chicago|\n",
      "+-------+----+-----------+-------------------+\n",
      "\n"
     ]
    }
   ],
   "source": [
    "# 20. Concatenar las columnas \"Nombre\" y \"Ciudad\" en una nueva columna llamada \"InformacionPersonal\".\n",
    "from pyspark.sql.functions import concat_ws,col\n",
    "df.select(\"nombre\",\"edad\",\"ciudad\",concat_ws(' ',df.nombre,df.ciudad).alias(\"InformacionPersonal\")).show()"
   ]
  }
 ],
 "metadata": {
  "kernelspec": {
   "display_name": "Python 3 (ipykernel)",
   "language": "python",
   "name": "python3"
  },
  "language_info": {
   "codemirror_mode": {
    "name": "ipython",
    "version": 3
   },
   "file_extension": ".py",
   "mimetype": "text/x-python",
   "name": "python",
   "nbconvert_exporter": "python",
   "pygments_lexer": "ipython3",
   "version": "3.9.12"
  }
 },
 "nbformat": 4,
 "nbformat_minor": 5
}
